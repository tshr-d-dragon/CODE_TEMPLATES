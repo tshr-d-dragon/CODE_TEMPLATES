{
  "cells": [
    {
      "cell_type": "code",
      "source": [
        "from google.colab import drive\n",
        "drive.mount('/content/drive')"
      ],
      "metadata": {
        "colab": {
          "base_uri": "https://localhost:8080/"
        },
        "id": "SvFhfu-lAIUm",
        "outputId": "31012abe-fdd9-4a7d-d997-38bf44661aac"
      },
      "execution_count": 1,
      "outputs": [
        {
          "output_type": "stream",
          "name": "stdout",
          "text": [
            "Mounted at /content/drive\n"
          ]
        }
      ]
    },
    {
      "cell_type": "code",
      "source": [
        "!pip install -U albumentations\n",
        "!pip uninstall opencv-python-headless==4.5.5.62\n",
        "!pip install opencv-python-headless==4.5.2.52\n",
        "!pip install patool\n"
      ],
      "metadata": {
        "id": "OA6sZW7uEv9k"
      },
      "execution_count": null,
      "outputs": []
    },
    {
      "cell_type": "code",
      "source": [
        "import patoolib\n",
        "patoolib.extract_archive(\"/content/drive/MyDrive/Thanaa/Data_cleaned.rar\", outdir=\"/content/\")"
      ],
      "metadata": {
        "colab": {
          "base_uri": "https://localhost:8080/",
          "height": 105
        },
        "id": "_U0yPkwg_9UO",
        "outputId": "a3b10434-6290-49c8-813b-23aa3b8eb436"
      },
      "execution_count": 149,
      "outputs": [
        {
          "output_type": "stream",
          "name": "stdout",
          "text": [
            "patool: Extracting /content/drive/MyDrive/Thanaa/Data_cleaned.rar ...\n",
            "patool: running /usr/bin/unrar x -- /content/drive/MyDrive/Thanaa/Data_cleaned.rar\n",
            "patool:     with cwd='/content/'\n",
            "patool: ... /content/drive/MyDrive/Thanaa/Data_cleaned.rar extracted to `/content/'.\n"
          ]
        },
        {
          "output_type": "execute_result",
          "data": {
            "text/plain": [
              "'/content/'"
            ],
            "application/vnd.google.colaboratory.intrinsic+json": {
              "type": "string"
            }
          },
          "metadata": {},
          "execution_count": 149
        }
      ]
    },
    {
      "cell_type": "code",
      "source": [
        "!cp -r /content/Data_cleaned/test /content/"
      ],
      "metadata": {
        "id": "bjSfmaux_9Rs"
      },
      "execution_count": 150,
      "outputs": []
    },
    {
      "cell_type": "code",
      "source": [
        "!rm -rf /content/Data_cleaned/test"
      ],
      "metadata": {
        "id": "Oz1mTXe0_9PD"
      },
      "execution_count": 151,
      "outputs": []
    },
    {
      "cell_type": "code",
      "source": [
        "from glob import glob\n",
        "glob('/content/Data_cleaned/*')"
      ],
      "metadata": {
        "colab": {
          "base_uri": "https://localhost:8080/"
        },
        "id": "umgRkEDl_9MV",
        "outputId": "56a95a5f-8e7d-45e0-caa2-2bdb30d064f6"
      },
      "execution_count": 152,
      "outputs": [
        {
          "output_type": "execute_result",
          "data": {
            "text/plain": [
              "['/content/Data_cleaned/EOSINOPHIL',\n",
              " '/content/Data_cleaned/LYMPHOCYTE',\n",
              " '/content/Data_cleaned/MONOCYTE',\n",
              " '/content/Data_cleaned/NEUTROPHIL']"
            ]
          },
          "metadata": {},
          "execution_count": 152
        }
      ]
    },
    {
      "cell_type": "code",
      "source": [
        "print(len(glob('/content/Data_cleaned/EOSINOPHIL/*')), 75*2)\n",
        "print(len(glob('/content/Data_cleaned/LYMPHOCYTE/*')), 23*8)\n",
        "print(len(glob('/content/Data_cleaned/MONOCYTE/*')), 17*10)\n",
        "print(len(glob('/content/Data_cleaned/NEUTROPHIL/*')), 167*1)"
      ],
      "metadata": {
        "colab": {
          "base_uri": "https://localhost:8080/"
        },
        "id": "hKd09prO_9JU",
        "outputId": "900d14dc-c7cb-4dae-a37b-b752fe801601"
      },
      "execution_count": 159,
      "outputs": [
        {
          "output_type": "stream",
          "name": "stdout",
          "text": [
            "149 150\n",
            "199 184\n",
            "161 170\n",
            "167 167\n"
          ]
        }
      ]
    },
    {
      "cell_type": "code",
      "source": [
        "import cv2\n",
        "import albumentations as A\n",
        "import matplotlib.pyplot as plt\n",
        "from tqdm import tqdm\n",
        "\n",
        "for i in tqdm(sorted(glob('/content/Data_cleaned/MONOCYTE/*.jpg'))):\n",
        "  \n",
        "  img = cv2.imread(i)[:,:,::-1]\n",
        "  # plt.imshow(img)\n",
        "  # plt.show()\n",
        "\n",
        "  transform = A.HorizontalFlip(p=1.0)\n",
        "  HFlip = transform(image=img)['image']\n",
        "  cv2.imwrite(i.split('.')[0]+'_HFlip.'+i.split('.')[1], HFlip)\n",
        "\n",
        "  transform = A.VerticalFlip(p=1.0)\n",
        "  VFlip = transform(image=img)['image']\n",
        "  cv2.imwrite(i.split('.')[0]+'_VFlip.'+i.split('.')[1], VFlip)\n",
        "\n",
        "  transform = A.VerticalFlip(p=1.0)\n",
        "  VHFlip = transform(image=HFlip)['image']\n",
        "  cv2.imwrite(i.split('.')[0]+'_VHFlip.'+i.split('.')[1], VHFlip)\n",
        "\n",
        "  transform = A.RandomRotate90(p=1.0)\n",
        "  RR90 = transform(image=img)['image']\n",
        "  cv2.imwrite(i.split('.')[0]+'_RR90.'+i.split('.')[1], RR90)\n",
        "\n",
        "  transform = A.Rotate(p=1.0)\n",
        "  R = transform(image=img)['image']\n",
        "  cv2.imwrite(i.split('.')[0]+'_R.'+i.split('.')[1], R)\n",
        "\n",
        "  transform = A.ShiftScaleRotate(p=1.0)\n",
        "  SSR = transform(image=img)['image'] \n",
        "  cv2.imwrite(i.split('.')[0]+'_SSR.'+i.split('.')[1], SSR) \n",
        "\n",
        "  transform = A.ShiftScaleRotate(p=1.0)\n",
        "  VHFlipSSR = transform(image=VHFlip)['image']\n",
        "  cv2.imwrite(i.split('.')[0]+'_VHFlipSSR.'+i.split('.')[1], VHFlipSSR)\n",
        "\n",
        "  transform = A.SafeRotate(p=1.0)\n",
        "  SR = transform(image=img)['image']\n",
        "  cv2.imwrite(i.split('.')[0]+'_RSC.'+i.split('.')[1], SR)\n",
        "\n",
        "  transform = A.SafeRotate(p=1.0)\n",
        "  VHFlipSR = transform(image=VHFlip)['image']\n",
        "  cv2.imwrite(i.split('.')[0]+'_VHFlipSR.'+i.split('.')[1], VHFlipSR)\n",
        "\n",
        "  # plt.imshow(RSC)\n",
        "  # plt.show()\n",
        "  # break"
      ],
      "metadata": {
        "colab": {
          "base_uri": "https://localhost:8080/"
        },
        "id": "t7Gb8Mnl_9Gx",
        "outputId": "f3e1f0d1-318d-474d-a442-3d65a9e6baeb"
      },
      "execution_count": 158,
      "outputs": [
        {
          "output_type": "stream",
          "name": "stderr",
          "text": [
            "100%|██████████| 16/16 [00:01<00:00,  9.32it/s]\n"
          ]
        }
      ]
    },
    {
      "cell_type": "code",
      "source": [
        "i.split('.')[0]+'_HFlip.'+i.split('.')[1]"
      ],
      "metadata": {
        "colab": {
          "base_uri": "https://localhost:8080/",
          "height": 35
        },
        "id": "dAC9LDJM_9Bc",
        "outputId": "d142c1a3-a42d-44fd-9055-f0d5b0ea558a"
      },
      "execution_count": 83,
      "outputs": [
        {
          "output_type": "execute_result",
          "data": {
            "text/plain": [
              "'/content/Data_cleaned/LYMPHOCYTE/BloodImage_00111_HFlip.jpg'"
            ],
            "application/vnd.google.colaboratory.intrinsic+json": {
              "type": "string"
            }
          },
          "metadata": {},
          "execution_count": 83
        }
      ]
    },
    {
      "cell_type": "code",
      "source": [
        "sorted(glob('/content/Data_cleaned/*'))"
      ],
      "metadata": {
        "colab": {
          "base_uri": "https://localhost:8080/"
        },
        "id": "iNK9BJf2TON1",
        "outputId": "b2266137-9164-45c2-82f9-944ec834063f"
      },
      "execution_count": 162,
      "outputs": [
        {
          "output_type": "execute_result",
          "data": {
            "text/plain": [
              "['/content/Data_cleaned/EOSINOPHIL',\n",
              " '/content/Data_cleaned/LYMPHOCYTE',\n",
              " '/content/Data_cleaned/MONOCYTE',\n",
              " '/content/Data_cleaned/NEUTROPHIL']"
            ]
          },
          "metadata": {},
          "execution_count": 162
        }
      ]
    },
    {
      "cell_type": "code",
      "source": [
        "for k in tqdm(sorted(glob('/content/Data_cleaned/*'))):\n",
        "  \n",
        "  for i in sorted(glob(k+'/*.jpg')):\n",
        "\n",
        "    img = cv2.imread(i)[:,:,::-1]\n",
        "    # plt.imshow(img)\n",
        "    # plt.show()\n",
        "\n",
        "    transform = A.ElasticTransform(always_apply=True, p=1.0)\n",
        "    ET = transform(image=img)['image']\n",
        "    cv2.imwrite(i.split('.')[0]+'_ET.'+i.split('.')[1], ET)\n",
        "    # plt.imshow(ET)\n",
        "    # plt.show()\n",
        "\n",
        "    transform = A.GridDistortion(always_apply=True, p=1.0)\n",
        "    GD = transform(image=img)['image']\n",
        "    cv2.imwrite(i.split('.')[0]+'_GD.'+i.split('.')[1], GD)\n",
        "    # plt.imshow(GD)\n",
        "    # plt.show()\n",
        "\n",
        "    transform = A.ElasticTransform(always_apply=True, p=1.0)\n",
        "    GDET = transform(image=GD)['image']\n",
        "    cv2.imwrite(i.split('.')[0]+'_GDET.'+i.split('.')[1], GDET)\n",
        "    # plt.imshow(GDET)\n",
        "    # plt.show()\n",
        "\n",
        "    transform = A.ElasticTransform(always_apply=True, p=1.0)\n",
        "    ETGD = transform(image=ET)['image']\n",
        "    cv2.imwrite(i.split('.')[0]+'_GDET.'+i.split('.')[1], GDET)\n",
        "    # plt.imshow(ETGD)\n",
        "    # plt.show()\n",
        "\n",
        "  #   break\n",
        "  # break"
      ],
      "metadata": {
        "id": "fk_tlYgjWQuQ"
      },
      "execution_count": null,
      "outputs": []
    },
    {
      "cell_type": "code",
      "source": [
        "print(len(glob('/content/Data_cleaned/EOSINOPHIL/*')))\n",
        "print(len(glob('/content/Data_cleaned/LYMPHOCYTE/*')))\n",
        "print(len(glob('/content/Data_cleaned/MONOCYTE/*')))\n",
        "print(len(glob('/content/Data_cleaned/NEUTROPHIL/*')))"
      ],
      "metadata": {
        "colab": {
          "base_uri": "https://localhost:8080/"
        },
        "id": "6ZcHq9x9WQsE",
        "outputId": "b30ef929-df3b-41ca-f223-31f3942f0fc8"
      },
      "execution_count": 164,
      "outputs": [
        {
          "output_type": "stream",
          "name": "stdout",
          "text": [
            "593\n",
            "793\n",
            "641\n",
            "665\n"
          ]
        }
      ]
    },
    {
      "cell_type": "code",
      "source": [
        "import shutil\n",
        "shutil.make_archive('/content/Augmented_Dataset', 'zip', '/content/Data_cleaned')"
      ],
      "metadata": {
        "colab": {
          "base_uri": "https://localhost:8080/",
          "height": 35
        },
        "id": "l02tBzlkWQdM",
        "outputId": "ee51bf9d-da8a-44a6-9a34-f8c1dcb3259b"
      },
      "execution_count": 165,
      "outputs": [
        {
          "output_type": "execute_result",
          "data": {
            "text/plain": [
              "'/content/Augmented_Dataset.zip'"
            ],
            "application/vnd.google.colaboratory.intrinsic+json": {
              "type": "string"
            }
          },
          "metadata": {},
          "execution_count": 165
        }
      ]
    },
    {
      "cell_type": "code",
      "source": [
        "!cp /content/Augmented_Dataset.zip /content/drive/MyDrive/Thanaa/"
      ],
      "metadata": {
        "id": "hxsSIr_6WQar"
      },
      "execution_count": 166,
      "outputs": []
    },
    {
      "cell_type": "code",
      "source": [
        ""
      ],
      "metadata": {
        "id": "mhrznPszWQYZ"
      },
      "execution_count": null,
      "outputs": []
    }
  ],
  "metadata": {
    "colab": {
      "collapsed_sections": [],
      "name": "Welcome To Colaboratory",
      "provenance": []
    },
    "kernelspec": {
      "display_name": "Python 3",
      "name": "python3"
    },
    "accelerator": "GPU"
  },
  "nbformat": 4,
  "nbformat_minor": 0
}